{
  "cells": [
    {
      "cell_type": "code",
      "execution_count": null,
      "metadata": {
        "id": "a35MBJN3J9X2"
      },
      "outputs": [],
      "source": [
        "# Mount Google Drive\n",
        "from google.colab import drive\n",
        "drive.mount('/content/gdrive')"
      ]
    },
    {
      "cell_type": "code",
      "execution_count": null,
      "metadata": {
        "id": "V9hcjyBvK2yd"
      },
      "outputs": [],
      "source": [
        "!pip install git+https://github.com/ageitgey/face_recognition"
      ]
    },
    {
      "cell_type": "code",
      "execution_count": null,
      "metadata": {
        "id": "5bQbizMMTEey"
      },
      "outputs": [],
      "source": [
        "import os\n",
        "import cv2\n",
        "import face_recognition\n",
        "from skimage.feature import hog\n",
        "from skimage import exposure\n",
        "from google.colab.patches import cv2_imshow\n",
        "import numpy as np\n",
        "\n",
        "# Set up paths for known and unknown faces\n",
        "known_faces_dir = '/content/gdrive/MyDrive/images/known_faces/'\n",
        "unknown_faces_dir = '/content/gdrive/MyDrive/images/unknown_faces/'\n",
        "\n",
        "# Load known faces\n",
        "known_faces = []\n",
        "known_face_names = []\n",
        "for filename in os.listdir(known_faces_dir):\n",
        "  if os.path.isfile(os.path.join(known_faces_dir, filename)):\n",
        "     name = os.path.splitext(filename)[0]\n",
        "     image = face_recognition.load_image_file(known_faces_dir + filename)\n",
        "     try:\n",
        "         # Normalize the image\n",
        "         image = cv2.normalize(image, None, 0, 255, cv2.NORM_MINMAX)\n",
        "         encoding = face_recognition.face_encodings(image)[0]\n",
        "         known_faces.append(encoding)\n",
        "         known_face_names.append(name)\n",
        "         print(f\"face detected in {filename}\")\n",
        "     except IndexError:\n",
        "         print(f\"No face detected in {filename}\")\n",
        "\n",
        "# Process unknown faces\n",
        "for filename in os.listdir(unknown_faces_dir):\n",
        "    image = face_recognition.load_image_file(unknown_faces_dir + filename)\n",
        "    gray_image = cv2.cvtColor(image, cv2.COLOR_BGR2GRAY)\n",
        "\n",
        "    # Detect face locations using HOG algorithm\n",
        "    face_locations = face_recognition.face_locations(gray_image, model='hog')\n",
        "\n",
        "    # Calculate feature vector using HOG algorithm\n",
        "    features, hog_image = hog(gray_image, orientations=8, pixels_per_cell=(16, 16), cells_per_block=(1, 1), visualize=True, multichannel=False)\n",
        "\n",
        "    # Adjust the gamma value for exposure control\n",
        "    gamma = 0.38  # adjust as needed\n",
        "    gamma_corrected = np.uint8(cv2.pow(hog_image / 255., gamma) * 255.)\n",
        "\n",
        "\n",
        "    # Show the feature vector\n",
        "    print(f\"Feature vector for {filename}: {features}\")\n",
        "\n",
        "    # Show the local gradient image\n",
        "    print(f\"HOG IMAGE for {filename}\")\n",
        "    cv2_imshow(gamma_corrected)\n",
        "    cv2.waitKey(0)\n",
        "\n"
      ]
    },
    {
      "cell_type": "code",
      "execution_count": null,
      "metadata": {
        "id": "toG0sYxQZZm9"
      },
      "outputs": [],
      "source": [
        "# Loop through the unknown face images and extract their encodings\n",
        "for filename in os.listdir(unknown_faces_dir):\n",
        "    image = face_recognition.load_image_file(unknown_faces_dir + filename)\n",
        "    encodings = face_recognition.face_encodings(image)\n",
        "    if len(encodings) > 0:\n",
        "        # Print the 128-dimensional face encoding to the console\n",
        "        print(f\"128-dimensional face encoding for {filename}\")\n",
        "        print(encodings[0])"
      ]
    },
    {
      "cell_type": "code",
      "execution_count": null,
      "metadata": {
        "id": "JbLz3zn4YpNf"
      },
      "outputs": [],
      "source": [
        "from PIL import Image, ImageDraw\n",
        "\n",
        "# Loop over all images in the unknown faces directory\n",
        "for filename in os.listdir(unknown_faces_dir):\n",
        "    # Load the image file\n",
        "    image = face_recognition.load_image_file(unknown_faces_dir + filename)\n",
        "\n",
        "    # Find all facial features in the image\n",
        "    face_landmarks_list = face_recognition.face_landmarks(image)\n",
        "\n",
        "    # Convert the image to PIL format\n",
        "    pil_image = Image.fromarray(image)\n",
        "\n",
        "    # Create a draw object\n",
        "    draw = ImageDraw.Draw(pil_image)\n",
        "\n",
        "    # Loop over each facial feature and draw them on the image\n",
        "    for face_landmarks in face_landmarks_list:\n",
        "        for name, points in face_landmarks.items():\n",
        "            draw.line(points, width=2)\n",
        "\n",
        "    # Show the image with the facial landmarks\n",
        "    print(f\"Landmark Image for {filename}\")\n",
        "    pil_image.show()"
      ]
    },
    {
      "cell_type": "code",
      "execution_count": null,
      "metadata": {
        "id": "0N2rq4Ccaheo"
      },
      "outputs": [],
      "source": [
        "from sklearn import svm\n",
        "\n",
        "# Load the known faces and labels\n",
        "known_faces = []\n",
        "labels = []\n",
        "for filename in os.listdir(known_faces_dir):\n",
        "    image = face_recognition.load_image_file(known_faces_dir + filename)\n",
        "    try:\n",
        "        # Normalize the image\n",
        "        image = cv2.normalize(image, None, 0, 255, cv2.NORM_MINMAX)\n",
        "        encoding = face_recognition.face_encodings(image)[0]\n",
        "        known_faces.append(encoding)\n",
        "        known_face_names.append(name)\n",
        "        labels.append(os.path.splitext(filename)[0])\n",
        "        print(f\"face detected in {filename}\")\n",
        "    except IndexError:\n",
        "        print(f\"No face detected in {filename}\")\n",
        "\n",
        "# Train the SVM classifier\n",
        "svm_clf = svm.LinearSVC()\n",
        "svm_clf.fit(known_faces, labels)\n",
        "\n",
        "# Loop through the unknown faces and compare them to the known faces\n",
        "for filename in os.listdir(unknown_faces_dir):\n",
        "    image = face_recognition.load_image_file(unknown_faces_dir + filename)\n",
        "    face_encodings = face_recognition.face_encodings(image)\n",
        "    if len(face_encodings) == 0:\n",
        "        print(f\"No face detected in {filename}\")\n",
        "    else:\n",
        "        face_encoding = face_encodings[0]\n",
        "        is_match = svm_clf.predict([face_encoding])[0]\n",
        "        if is_match:\n",
        "            print(f\"The person in {filename} is {is_match}.\")\n",
        "        else:\n",
        "            print(f\"The person in {filename} is not recognized.\")\n"
      ]
    },
    {
      "cell_type": "code",
      "execution_count": null,
      "metadata": {
        "id": "RFwO6WmWbw06"
      },
      "outputs": [],
      "source": [
        "# Loop through the unknown faces\n",
        "for filename in os.listdir(unknown_faces_dir):\n",
        "    image = face_recognition.load_image_file(unknown_faces_dir + filename)\n",
        "    face_encodings = face_recognition.face_encodings(image)\n",
        "    if len(face_encodings) == 0:\n",
        "        print(f\"No face detected in {filename}\")\n",
        "    else:\n",
        "        print(f\"Face detected in {filename}\")\n",
        "        face_encoding = face_encodings[0]\n",
        "\n",
        "        # Compare the unknown face to each of the known faces\n",
        "        distances = face_recognition.face_distance(known_faces, face_encoding)\n",
        "\n",
        "        # Print the Euclidean distances between the unknown face and the known faces\n",
        "        print(f\"Distances for {filename}: {distances}\")"
      ]
    },
    {
      "cell_type": "code",
      "execution_count": null,
      "metadata": {
        "id": "WeP8jlQjLki5"
      },
      "outputs": [],
      "source": [
        "# Loop through all the unknown faces and recognize them\n",
        "for filename in os.listdir(unknown_faces_dir):\n",
        "    image = face_recognition.load_image_file(unknown_faces_dir + filename)\n",
        "    # Normalize the image\n",
        "    image = cv2.normalize(image, None, 0, 255, cv2.NORM_MINMAX)\n",
        "    face_locations = face_recognition.face_locations(image)\n",
        "    face_encodings = face_recognition.face_encodings(image, face_locations)\n",
        "    \n",
        "    # Convert the image from RGB to BGR for OpenCV\n",
        "    rgb_image = cv2.cvtColor(image, cv2.COLOR_RGB2BGR)\n",
        "\n",
        "    # Loop through each face found in the unknown image\n",
        "    for (top, right, bottom, left), unknown_encoding in zip(face_locations, face_encodings):\n",
        "        # See if the face is a match for any known faces\n",
        "        matches = face_recognition.compare_faces(known_faces, unknown_encoding)\n",
        "        \n",
        "        # Find the index of the first match in the known_faces array\n",
        "        match_index = -1\n",
        "        for i in range(len(matches)):\n",
        "            if matches[i]:\n",
        "                match_index = i\n",
        "                break\n",
        "        \n",
        "        # Draw a rectangle around the recognized face and show the name\n",
        "        if match_index == -1:\n",
        "            name = \"Unknown\"\n",
        "        else:\n",
        "            name = known_face_names[match_index]\n",
        "        cv2.rectangle(rgb_image, (left, top), (right, bottom), (0, 255, 0), 2)\n",
        "        cv2.putText(rgb_image, name, (left, top - 10), cv2.FONT_HERSHEY_SIMPLEX, 0.5, (0, 255, 0), 2)\n",
        "        print(f\"face recognized in {filename} as {name}\")\n",
        "\n",
        "    # Show the image with the recognized faces\n",
        "    cv2_imshow(rgb_image)\n",
        "    cv2.waitKey(0)\n",
        "\n",
        "# Clean up\n",
        "cv2.destroyAllWindows()"
      ]
    }
  ],
  "metadata": {
    "accelerator": "GPU",
    "colab": {
      "machine_shape": "hm",
      "private_outputs": true,
      "provenance": []
    },
    "gpuClass": "premium",
    "kernelspec": {
      "display_name": "Python 3",
      "name": "python3"
    },
    "language_info": {
      "name": "python"
    }
  },
  "nbformat": 4,
  "nbformat_minor": 0
}